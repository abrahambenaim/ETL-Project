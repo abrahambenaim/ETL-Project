{
 "cells": [
  {
   "cell_type": "code",
   "execution_count": 43,
   "metadata": {},
   "outputs": [],
   "source": [
    "import pandas as pd\n",
    "from sqlalchemy import create_engine\n"
   ]
  },
  {
   "cell_type": "code",
   "execution_count": 44,
   "metadata": {},
   "outputs": [],
   "source": [
    "from etl_clean_ip import top30_disparity\n",
    "from etl_clean_ip import avgincome_perzip\n",
    "from etl_clean_ip import home_value_byzip\n",
    "from yelp import restaurants_clean"
   ]
  },
  {
   "cell_type": "code",
   "execution_count": 45,
   "metadata": {},
   "outputs": [],
   "source": [
    "avgincome_perzip = avgincome_perzip.rename(columns={'Avg_income':'avg_income'})"
   ]
  },
  {
   "cell_type": "code",
   "execution_count": 56,
   "metadata": {},
   "outputs": [],
   "source": [
    "restaurants_clean = restaurants_clean.rename(columns={'ID':'id','Name':'name','Location':'location','City':'city','State':'state','Zipcode':'zipcode','Rating':'rating','Price':'price'})"
   ]
  },
  {
   "cell_type": "code",
   "execution_count": 57,
   "metadata": {},
   "outputs": [],
   "source": [
    "avgincome_perzip = avgincome_perzip.reset_index()"
   ]
  },
  {
   "cell_type": "code",
   "execution_count": 60,
   "metadata": {},
   "outputs": [],
   "source": [
    "restaurants_clean = restaurants_clean.reset_index()"
   ]
  },
  {
   "cell_type": "code",
   "execution_count": 48,
   "metadata": {},
   "outputs": [],
   "source": [
    "connection_string = \"postgres:Ab2423034@localhost:5433/ETL_HW\"\n",
    "engine = create_engine(f'postgresql://{connection_string}')"
   ]
  },
  {
   "cell_type": "code",
   "execution_count": 34,
   "metadata": {},
   "outputs": [
    {
     "data": {
      "text/plain": [
       "['top30_disparity', 'restaurants_df', 'home_value_byzip', 'avgincome_perzip']"
      ]
     },
     "execution_count": 34,
     "metadata": {},
     "output_type": "execute_result"
    }
   ],
   "source": [
    "engine.table_names()"
   ]
  },
  {
   "cell_type": "code",
   "execution_count": 35,
   "metadata": {},
   "outputs": [],
   "source": [
    "avgincome_perzip.to_sql(name='avgincome_perzip',con=engine,if_exists='append',index=True)"
   ]
  },
  {
   "cell_type": "code",
   "execution_count": 62,
   "metadata": {},
   "outputs": [
    {
     "data": {
      "text/html": [
       "<div>\n",
       "<style scoped>\n",
       "    .dataframe tbody tr th:only-of-type {\n",
       "        vertical-align: middle;\n",
       "    }\n",
       "\n",
       "    .dataframe tbody tr th {\n",
       "        vertical-align: top;\n",
       "    }\n",
       "\n",
       "    .dataframe thead th {\n",
       "        text-align: right;\n",
       "    }\n",
       "</style>\n",
       "<table border=\"1\" class=\"dataframe\">\n",
       "  <thead>\n",
       "    <tr style=\"text-align: right;\">\n",
       "      <th></th>\n",
       "      <th>index</th>\n",
       "      <th>zip</th>\n",
       "      <th>avg_income</th>\n",
       "    </tr>\n",
       "  </thead>\n",
       "  <tbody>\n",
       "    <tr>\n",
       "      <td>0</td>\n",
       "      <td>0</td>\n",
       "      <td>33002.0</td>\n",
       "      <td>55473.0</td>\n",
       "    </tr>\n",
       "    <tr>\n",
       "      <td>1</td>\n",
       "      <td>1</td>\n",
       "      <td>33010.0</td>\n",
       "      <td>40904.846153846156</td>\n",
       "    </tr>\n",
       "    <tr>\n",
       "      <td>2</td>\n",
       "      <td>2</td>\n",
       "      <td>33011.0</td>\n",
       "      <td>32323.0</td>\n",
       "    </tr>\n",
       "    <tr>\n",
       "      <td>3</td>\n",
       "      <td>3</td>\n",
       "      <td>33012.0</td>\n",
       "      <td>44724.055555555555</td>\n",
       "    </tr>\n",
       "    <tr>\n",
       "      <td>4</td>\n",
       "      <td>4</td>\n",
       "      <td>33013.0</td>\n",
       "      <td>44833.75</td>\n",
       "    </tr>\n",
       "  </tbody>\n",
       "</table>\n",
       "</div>"
      ],
      "text/plain": [
       "   index      zip          avg_income\n",
       "0      0  33002.0             55473.0\n",
       "1      1  33010.0  40904.846153846156\n",
       "2      2  33011.0             32323.0\n",
       "3      3  33012.0  44724.055555555555\n",
       "4      4  33013.0            44833.75"
      ]
     },
     "execution_count": 62,
     "metadata": {},
     "output_type": "execute_result"
    }
   ],
   "source": [
    "pd.read_sql_query('select * from avgincome_perzip', con=engine).head()"
   ]
  },
  {
   "cell_type": "code",
   "execution_count": 61,
   "metadata": {},
   "outputs": [],
   "source": [
    "restaurants_clean.to_sql(name='restaurants_df',con=engine,if_exists='append',index=False)"
   ]
  },
  {
   "cell_type": "code",
   "execution_count": 63,
   "metadata": {},
   "outputs": [
    {
     "data": {
      "text/html": [
       "<div>\n",
       "<style scoped>\n",
       "    .dataframe tbody tr th:only-of-type {\n",
       "        vertical-align: middle;\n",
       "    }\n",
       "\n",
       "    .dataframe tbody tr th {\n",
       "        vertical-align: top;\n",
       "    }\n",
       "\n",
       "    .dataframe thead th {\n",
       "        text-align: right;\n",
       "    }\n",
       "</style>\n",
       "<table border=\"1\" class=\"dataframe\">\n",
       "  <thead>\n",
       "    <tr style=\"text-align: right;\">\n",
       "      <th></th>\n",
       "      <th>index</th>\n",
       "      <th>id</th>\n",
       "      <th>name</th>\n",
       "      <th>location</th>\n",
       "      <th>city</th>\n",
       "      <th>state</th>\n",
       "      <th>zipcode</th>\n",
       "      <th>rating</th>\n",
       "      <th>price</th>\n",
       "    </tr>\n",
       "  </thead>\n",
       "  <tbody>\n",
       "    <tr>\n",
       "      <td>0</td>\n",
       "      <td>1183</td>\n",
       "      <td>-3YZxfPp5asNj8Xa-4dRtA</td>\n",
       "      <td>El Palacio De Los Frijoles kendall</td>\n",
       "      <td>15512 SW 72nd St</td>\n",
       "      <td>Miami</td>\n",
       "      <td>FL</td>\n",
       "      <td>33193</td>\n",
       "      <td>4.5</td>\n",
       "      <td>$$</td>\n",
       "    </tr>\n",
       "    <tr>\n",
       "      <td>1</td>\n",
       "      <td>1165</td>\n",
       "      <td>-6CCxMhrhi6QjkEQ8p9ePw</td>\n",
       "      <td>Coopertown Restaurant</td>\n",
       "      <td>22700 SW 8th St</td>\n",
       "      <td>Miami</td>\n",
       "      <td>FL</td>\n",
       "      <td>33194</td>\n",
       "      <td>4.0</td>\n",
       "      <td>$$</td>\n",
       "    </tr>\n",
       "    <tr>\n",
       "      <td>2</td>\n",
       "      <td>781</td>\n",
       "      <td>-7xE_anzYV0g7SXC119lwg</td>\n",
       "      <td>Rico's Steak &amp; Grill</td>\n",
       "      <td>18509 S Dixie Hwy</td>\n",
       "      <td>Cutler Bay</td>\n",
       "      <td>FL</td>\n",
       "      <td>33157</td>\n",
       "      <td>4.5</td>\n",
       "      <td>$$</td>\n",
       "    </tr>\n",
       "    <tr>\n",
       "      <td>3</td>\n",
       "      <td>125</td>\n",
       "      <td>-NKYlNaASizxqmNBgSfgeQ</td>\n",
       "      <td>Old Tom's</td>\n",
       "      <td>5001 NW 36th St</td>\n",
       "      <td>Miami Springs</td>\n",
       "      <td>FL</td>\n",
       "      <td>33166</td>\n",
       "      <td>4.0</td>\n",
       "      <td>$$</td>\n",
       "    </tr>\n",
       "    <tr>\n",
       "      <td>4</td>\n",
       "      <td>389</td>\n",
       "      <td>-Wu6gPfvTmpx1RKR05w41Q</td>\n",
       "      <td>Ernestos's Taco Shop</td>\n",
       "      <td>20095 S Dixie Hwy</td>\n",
       "      <td>Miami</td>\n",
       "      <td>FL</td>\n",
       "      <td>33189</td>\n",
       "      <td>4.0</td>\n",
       "      <td>$</td>\n",
       "    </tr>\n",
       "  </tbody>\n",
       "</table>\n",
       "</div>"
      ],
      "text/plain": [
       "   index                      id                                name  \\\n",
       "0   1183  -3YZxfPp5asNj8Xa-4dRtA  El Palacio De Los Frijoles kendall   \n",
       "1   1165  -6CCxMhrhi6QjkEQ8p9ePw               Coopertown Restaurant   \n",
       "2    781  -7xE_anzYV0g7SXC119lwg                Rico's Steak & Grill   \n",
       "3    125  -NKYlNaASizxqmNBgSfgeQ                           Old Tom's   \n",
       "4    389  -Wu6gPfvTmpx1RKR05w41Q                Ernestos's Taco Shop   \n",
       "\n",
       "            location           city state zipcode rating price  \n",
       "0   15512 SW 72nd St          Miami    FL   33193    4.5    $$  \n",
       "1    22700 SW 8th St          Miami    FL   33194    4.0    $$  \n",
       "2  18509 S Dixie Hwy     Cutler Bay    FL   33157    4.5    $$  \n",
       "3    5001 NW 36th St  Miami Springs    FL   33166    4.0    $$  \n",
       "4  20095 S Dixie Hwy          Miami    FL   33189    4.0     $  "
      ]
     },
     "execution_count": 63,
     "metadata": {},
     "output_type": "execute_result"
    }
   ],
   "source": [
    "pd.read_sql_query('select * from restaurants_df', con=engine).head()"
   ]
  },
  {
   "cell_type": "code",
   "execution_count": 67,
   "metadata": {},
   "outputs": [],
   "source": [
    "top30_disparity = top30_disparity.rename(columns={'Avg_income':'avg_income'})"
   ]
  },
  {
   "cell_type": "code",
   "execution_count": 68,
   "metadata": {},
   "outputs": [],
   "source": [
    "top30_disparity.to_sql(name='top30_disparity',con=engine,if_exists='append',index=False)"
   ]
  },
  {
   "cell_type": "code",
   "execution_count": 69,
   "metadata": {},
   "outputs": [
    {
     "data": {
      "text/html": [
       "<div>\n",
       "<style scoped>\n",
       "    .dataframe tbody tr th:only-of-type {\n",
       "        vertical-align: middle;\n",
       "    }\n",
       "\n",
       "    .dataframe tbody tr th {\n",
       "        vertical-align: top;\n",
       "    }\n",
       "\n",
       "    .dataframe thead th {\n",
       "        text-align: right;\n",
       "    }\n",
       "</style>\n",
       "<table border=\"1\" class=\"dataframe\">\n",
       "  <thead>\n",
       "    <tr style=\"text-align: right;\">\n",
       "      <th></th>\n",
       "      <th>avg_income</th>\n",
       "      <th>zip_code</th>\n",
       "      <th>home_value</th>\n",
       "      <th>rent_value</th>\n",
       "      <th>rule_of_thumb</th>\n",
       "      <th>disparity</th>\n",
       "    </tr>\n",
       "  </thead>\n",
       "  <tbody>\n",
       "    <tr>\n",
       "      <td>0</td>\n",
       "      <td>35515</td>\n",
       "      <td>33142</td>\n",
       "      <td>235600</td>\n",
       "      <td>1759</td>\n",
       "      <td>888</td>\n",
       "      <td>871</td>\n",
       "    </tr>\n",
       "    <tr>\n",
       "      <td>1</td>\n",
       "      <td>40237</td>\n",
       "      <td>33127</td>\n",
       "      <td>281800</td>\n",
       "      <td>1934</td>\n",
       "      <td>1006</td>\n",
       "      <td>928</td>\n",
       "    </tr>\n",
       "    <tr>\n",
       "      <td>2</td>\n",
       "      <td>40286</td>\n",
       "      <td>33147</td>\n",
       "      <td>244200</td>\n",
       "      <td>1760</td>\n",
       "      <td>1007</td>\n",
       "      <td>753</td>\n",
       "    </tr>\n",
       "    <tr>\n",
       "      <td>3</td>\n",
       "      <td>41506</td>\n",
       "      <td>33125</td>\n",
       "      <td>311700</td>\n",
       "      <td>1886</td>\n",
       "      <td>1038</td>\n",
       "      <td>848</td>\n",
       "    </tr>\n",
       "    <tr>\n",
       "      <td>4</td>\n",
       "      <td>42845</td>\n",
       "      <td>33136</td>\n",
       "      <td>243800</td>\n",
       "      <td>1889</td>\n",
       "      <td>1071</td>\n",
       "      <td>818</td>\n",
       "    </tr>\n",
       "  </tbody>\n",
       "</table>\n",
       "</div>"
      ],
      "text/plain": [
       "   avg_income  zip_code  home_value  rent_value  rule_of_thumb  disparity\n",
       "0       35515     33142      235600        1759            888        871\n",
       "1       40237     33127      281800        1934           1006        928\n",
       "2       40286     33147      244200        1760           1007        753\n",
       "3       41506     33125      311700        1886           1038        848\n",
       "4       42845     33136      243800        1889           1071        818"
      ]
     },
     "execution_count": 69,
     "metadata": {},
     "output_type": "execute_result"
    }
   ],
   "source": [
    "pd.read_sql_query('select * from top30_disparity', con=engine).head()"
   ]
  },
  {
   "cell_type": "code",
   "execution_count": 71,
   "metadata": {},
   "outputs": [],
   "source": [
    "home_value_byzip.to_sql(name='home_value_byzip',con=engine,if_exists='append',index=False)"
   ]
  },
  {
   "cell_type": "code",
   "execution_count": 72,
   "metadata": {},
   "outputs": [
    {
     "data": {
      "text/html": [
       "<div>\n",
       "<style scoped>\n",
       "    .dataframe tbody tr th:only-of-type {\n",
       "        vertical-align: middle;\n",
       "    }\n",
       "\n",
       "    .dataframe tbody tr th {\n",
       "        vertical-align: top;\n",
       "    }\n",
       "\n",
       "    .dataframe thead th {\n",
       "        text-align: right;\n",
       "    }\n",
       "</style>\n",
       "<table border=\"1\" class=\"dataframe\">\n",
       "  <thead>\n",
       "    <tr style=\"text-align: right;\">\n",
       "      <th></th>\n",
       "      <th>zip_code</th>\n",
       "      <th>home_value</th>\n",
       "      <th>rent_value</th>\n",
       "    </tr>\n",
       "  </thead>\n",
       "  <tbody>\n",
       "    <tr>\n",
       "      <td>0</td>\n",
       "      <td>33010</td>\n",
       "      <td>$321,100</td>\n",
       "      <td>---</td>\n",
       "    </tr>\n",
       "    <tr>\n",
       "      <td>1</td>\n",
       "      <td>33012</td>\n",
       "      <td>$251,200</td>\n",
       "      <td>$1,807</td>\n",
       "    </tr>\n",
       "    <tr>\n",
       "      <td>2</td>\n",
       "      <td>33013</td>\n",
       "      <td>$341,000</td>\n",
       "      <td>---</td>\n",
       "    </tr>\n",
       "    <tr>\n",
       "      <td>3</td>\n",
       "      <td>33014</td>\n",
       "      <td>$268,800</td>\n",
       "      <td>$1,892</td>\n",
       "    </tr>\n",
       "    <tr>\n",
       "      <td>4</td>\n",
       "      <td>33015</td>\n",
       "      <td>$271,400</td>\n",
       "      <td>$1,820</td>\n",
       "    </tr>\n",
       "  </tbody>\n",
       "</table>\n",
       "</div>"
      ],
      "text/plain": [
       "  zip_code home_value rent_value\n",
       "0    33010   $321,100        ---\n",
       "1    33012   $251,200     $1,807\n",
       "2    33013   $341,000        ---\n",
       "3    33014   $268,800     $1,892\n",
       "4    33015   $271,400     $1,820"
      ]
     },
     "execution_count": 72,
     "metadata": {},
     "output_type": "execute_result"
    }
   ],
   "source": [
    "pd.read_sql_query('select * from home_value_byzip', con=engine).head()"
   ]
  },
  {
   "cell_type": "code",
   "execution_count": null,
   "metadata": {},
   "outputs": [],
   "source": []
  }
 ],
 "metadata": {
  "kernelspec": {
   "display_name": "Python 3",
   "language": "python",
   "name": "python3"
  },
  "language_info": {
   "codemirror_mode": {
    "name": "ipython",
    "version": 3
   },
   "file_extension": ".py",
   "mimetype": "text/x-python",
   "name": "python",
   "nbconvert_exporter": "python",
   "pygments_lexer": "ipython3",
   "version": "3.7.4"
  }
 },
 "nbformat": 4,
 "nbformat_minor": 2
}
