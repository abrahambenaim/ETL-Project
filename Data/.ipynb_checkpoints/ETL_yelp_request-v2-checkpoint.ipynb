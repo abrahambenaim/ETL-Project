{
 "cells": [
  {
   "cell_type": "code",
   "execution_count": 1,
   "metadata": {},
   "outputs": [],
   "source": [
    "# Dependencies\n",
    "import pandas as pd\n",
    "import numpy as np\n",
    "import requests\n",
    "import json\n",
    "\n",
    "# Yelp API Key\n",
    "gkey = 'fxuoEjmZHd5kA1x20u4z2waSsXfTm49pWr2F6ac-htERJ0haCqXH949tlmDYt9lhy4MC6nBJjt2llMwhQJfxbwX69QlFkI221WkMDZTn7NMQBaXRrWGBFzCrg4-9XXYx'\n"
   ]
  },
  {
   "cell_type": "code",
   "execution_count": 2,
   "metadata": {},
   "outputs": [
    {
     "name": "stderr",
     "output_type": "stream",
     "text": [
      "/Users/monicamalarcon/Dropbox/School/UM_Bootcamp/Work_Bootcamp/13 - ETL-Project/ETL-project/ETL-Project/Data/etl_clean_ip.py:231: SettingWithCopyWarning: \n",
      "A value is trying to be set on a copy of a slice from a DataFrame.\n",
      "Try using .loc[row_indexer,col_indexer] = value instead\n",
      "\n",
      "See the caveats in the documentation: http://pandas.pydata.org/pandas-docs/stable/indexing.html#indexing-view-versus-copy\n",
      "  top30_disparity['zip_code'] = top30_disparity['zip_code'].astype(int)\n",
      "/Users/monicamalarcon/Dropbox/School/UM_Bootcamp/Work_Bootcamp/13 - ETL-Project/ETL-project/ETL-Project/Data/etl_clean_ip.py:232: SettingWithCopyWarning: \n",
      "A value is trying to be set on a copy of a slice from a DataFrame.\n",
      "Try using .loc[row_indexer,col_indexer] = value instead\n",
      "\n",
      "See the caveats in the documentation: http://pandas.pydata.org/pandas-docs/stable/indexing.html#indexing-view-versus-copy\n",
      "  top30_disparity['Avg_income'] = top30_disparity['Avg_income'].round(3)\n"
     ]
    }
   ],
   "source": [
    "from etl_clean_ip import zip_list"
   ]
  },
  {
   "cell_type": "code",
   "execution_count": 3,
   "metadata": {},
   "outputs": [],
   "source": [
    "#set up base url\n",
    "# base url\n",
    "base_url = \"https://api.yelp.com/v3/businesses/search\"\n",
    "\n",
    "# set up api_key dictionary\n",
    "headers = {\n",
    "        'Authorization': 'Bearer %s' % gkey,\n",
    "    }\n",
    "\n",
    "# set up a parameters dictionary\n",
    "def s_params(target_loc,target_key,target_type):\n",
    "    params = {\n",
    "    \"location\": target_loc,\n",
    "    \"term\": target_key,\n",
    "    \"categories\": target_type,\n",
    "}\n",
    "    return params\n",
    "\n",
    "# run a request using our params dictionary\n",
    "def s_query(base_url,headers,params):\n",
    "    response = requests.request('GET', base_url, headers=headers, params=params).json()\n",
    "    return response"
   ]
  },
  {
   "cell_type": "code",
   "execution_count": 4,
   "metadata": {},
   "outputs": [
    {
     "data": {
      "text/plain": [
       "[33142,\n",
       " 33127,\n",
       " 33147,\n",
       " 33125,\n",
       " 33136,\n",
       " 33012,\n",
       " 33167,\n",
       " 33126,\n",
       " 33150,\n",
       " 33032,\n",
       " 33130,\n",
       " 33162,\n",
       " 33034,\n",
       " 33055,\n",
       " 33056,\n",
       " 33174,\n",
       " 33172,\n",
       " 33033,\n",
       " 33168,\n",
       " 33190,\n",
       " 33169,\n",
       " 33181,\n",
       " 33030,\n",
       " 33014,\n",
       " 33193,\n",
       " 33016,\n",
       " 33161,\n",
       " 33184,\n",
       " 33194,\n",
       " 33035]"
      ]
     },
     "execution_count": 4,
     "metadata": {},
     "output_type": "execute_result"
    }
   ],
   "source": [
    "# Import zip list\n",
    "zip_list \n",
    "\n",
    "\n",
    "#cities_pd.shape[0] #use .shape[0] to count the number of rows"
   ]
  },
  {
   "cell_type": "code",
   "execution_count": 5,
   "metadata": {},
   "outputs": [],
   "source": [
    "# create empty lists to hold yelp data\n",
    "names = []\n",
    "addresses = []\n",
    "lats = []\n",
    "lons = []\n",
    "ratings = []\n",
    "price = []\n",
    "\n",
    "#define Yelp function to get restaurant data\n",
    "def get_restaurants(loc):\n",
    "    \n",
    "    #these are the additional params\n",
    "    add_params = { \"limit\" : 5, \"radius\" : 40000}\n",
    "\n",
    "    #these are the original params\n",
    "    params = s_params(loc,\"restaurants\",\"restaurants, All\")\n",
    "\n",
    "    #add additional params to our params from before\n",
    "    s1_params = {**params,**add_params}\n",
    "\n",
    "    s1_results = s_query(base_url,headers,s1_params)\n",
    "    \n",
    "    if (s1_results):\n",
    "    \n",
    "        name = s1_results[\"businesses\"][0][\"name\"]\n",
    "        address = s1_results[\"businesses\"][0][\"location\"][\"display_address\"]\n",
    "        lat = s1_results[\"businesses\"][0][\"coordinates\"][\"latitude\"]\n",
    "        lon = s1_results[\"businesses\"][0][\"coordinates\"][\"longitude\"]\n",
    "        rating = s1_results[\"businesses\"][0][\"rating\"]\n",
    "        price = s1_results[\"businesses\"][0][\"price\"]\n",
    "        output = [name,address,lat,lon,rating,price] \n",
    "    else:\n",
    "        output = [\"NaN\",\"NaN\",\"NaN\",\"NaN\",\"NaN\",\"NaN\"]\n",
    "    \n",
    "    \n",
    "    return output\n"
   ]
  },
  {
   "cell_type": "code",
   "execution_count": 6,
   "metadata": {},
   "outputs": [
    {
     "name": "stdout",
     "output_type": "stream",
     "text": [
      "wait...\n",
      "Beginning Data Retrieval\n",
      "-----------------------------------\n",
      "['Hometown Bar-B-Que', ['1200 NW 22nd St', 'Ste 100', 'Miami, FL 33142'], 25.797445333, -80.215986833, 4.5, '$$']\n",
      "['KYU', ['251 NW 25th St', 'Miami, FL 33127'], 25.80089, -80.20017, 4.5, '$$$']\n",
      "['Sins Gastrobar', ['9835 NE 2nd Ave', 'Miami Shores, FL 33138'], 25.86562, -80.19331, 4.0, '$$']\n",
      "[\"Old's Havana Cuban Bar & Cocina\", ['1442 SW 8th St', 'Miami, FL 33135'], 25.7655942148975, -80.2192383373502, 4.5, '$$']\n",
      "[\"Old's Havana Cuban Bar & Cocina\", ['1442 SW 8th St', 'Miami, FL 33135'], 25.7655942148975, -80.2192383373502, 4.5, '$$']\n",
      "Key missing | Skipping restaurant\n",
      "['Sins Gastrobar', ['9835 NE 2nd Ave', 'Miami Shores, FL 33138'], 25.86562, -80.19331, 4.0, '$$']\n",
      "['Amor di Pasta - Blue Lagoon', ['536 NW 57th Ave', 'Miami, FL 33126'], 25.776908, -80.288655, 4.5, '$$']\n",
      "['Sins Gastrobar', ['9835 NE 2nd Ave', 'Miami Shores, FL 33138'], 25.86562, -80.19331, 4.0, '$$']\n",
      "Key missing | Skipping restaurant\n",
      "[\"Old's Havana Cuban Bar & Cocina\", ['1442 SW 8th St', 'Miami, FL 33135'], 25.7655942148975, -80.2192383373502, 4.5, '$$']\n",
      "['Korean Kitchen', ['1661 NE 163rd St', 'Ste A', 'North Miami Beach, FL 33162'], 25.92621, -80.16672, 4.5, '$$']\n",
      "['Blackwater Siren', ['107690 Overseas Hwy', 'Key Largo, FL 33037'], 25.1831299, -80.38696, 4.5, '$$']\n",
      "['Hi Pot Pembroke Pines', ['620 N University Dr', 'Pembroke Pines, FL 33024'], 26.014611, -80.251263, 4.5, '$$']\n",
      "['World Famous', ['19401 NW 27th Ave', 'Miami Gardens, FL 33056'], 25.95109, -80.2450747042894, 4.0, '$$']\n",
      "['KOW Restaurant', ['14429 SW 42nd St', 'Miami, FL 33175'], 25.729489, -80.428437, 4.5, '$$']\n",
      "['Bocas House- Doral', ['10200 NW 25th St', 'Ste 101', 'Doral, FL 33172'], 25.7963099, -80.3619, 4.0, '$$']\n",
      "['Yardie Spice', ['225 S Krome Ave', 'Homestead, FL 33030'], 25.468072, -80.477266, 5.0, '$$']\n",
      "['World Famous House of Mac', ['13521 Biscayne Blvd', 'North Miami Beach, FL 33181'], 25.90059, -80.15972, 4.5, '$$']\n",
      "['Black Point Ocean Grill', ['24775 SW 87th Ave', 'Cutler Bay, FL 33032'], 25.540609, -80.328529, 4.0, '$$']\n",
      "['World Famous House of Mac', ['13521 Biscayne Blvd', 'North Miami Beach, FL 33181'], 25.90059, -80.15972, 4.5, '$$']\n",
      "['World Famous House of Mac', ['13521 Biscayne Blvd', 'North Miami Beach, FL 33181'], 25.90059, -80.15972, 4.5, '$$']\n",
      "['Yardie Spice', ['225 S Krome Ave', 'Homestead, FL 33030'], 25.468072, -80.477266, 5.0, '$$']\n",
      "['107 Taste - Miami Lakes', ['6705 Main St', 'Miami Lakes, FL 33014'], 25.9133462, -80.3097048, 4.5, '$$']\n",
      "['KOW Restaurant', ['14429 SW 42nd St', 'Miami, FL 33175'], 25.729489, -80.428437, 4.5, '$$']\n",
      "Key missing | Skipping restaurant\n",
      "['World Famous House of Mac', ['13521 Biscayne Blvd', 'North Miami Beach, FL 33181'], 25.90059, -80.15972, 4.5, '$$']\n",
      "['KOW Restaurant', ['14429 SW 42nd St', 'Miami, FL 33175'], 25.729489, -80.428437, 4.5, '$$']\n",
      "['KOW Restaurant', ['14429 SW 42nd St', 'Miami, FL 33175'], 25.729489, -80.428437, 4.5, '$$']\n",
      "['Yardie Spice', ['225 S Krome Ave', 'Homestead, FL 33030'], 25.468072, -80.477266, 5.0, '$$']\n",
      "-----------------------------------\n",
      "Data Retrieval Complete\n",
      "done!\n"
     ]
    }
   ],
   "source": [
    "# Loop through the zipcodes in zip_list and append restaurant info to lists above\n",
    "\n",
    "print(\"wait...\")\n",
    "print(\"Beginning Data Retrieval\")\n",
    "print(\"-----------------------------------\")\n",
    "\n",
    "for zipc in zip_list:\n",
    "    loc = zipc\n",
    "    try:\n",
    "        output = get_restaurants(loc)\n",
    "        print(output)\n",
    "        names.append(output[0])\n",
    "        addresses.append(output[1])\n",
    "        lats.append(output[2])\n",
    "        lons.append(output[3])\n",
    "        ratings.append(output[4])\n",
    "        price.append(output[5])\n",
    "        \n",
    "# make exception for key errors        \n",
    "    except (KeyError, IndexError):\n",
    "        print(f'Key missing | Skipping restaurant')\n",
    "        output = [\"NaN\",\"NaN\",\"NaN\",\"NaN\",\"NaN\",\"NaN\"]\n",
    "        names.append(output[0])\n",
    "        addresses.append(output[1])\n",
    "        lats.append(output[2])\n",
    "        lons.append(output[3])\n",
    "        ratings.append(output[4])\n",
    "        price.append(output[5])\n",
    "\n",
    "print(\"-----------------------------------\")\n",
    "print(\"Data Retrieval Complete\")\n",
    "\n",
    "    \n",
    "print(\"done!\")"
   ]
  },
  {
   "cell_type": "code",
   "execution_count": 10,
   "metadata": {},
   "outputs": [
    {
     "name": "stdout",
     "output_type": "stream",
     "text": [
      "The data frame contains 30 unique restaurants.\n"
     ]
    },
    {
     "data": {
      "text/html": [
       "<div>\n",
       "<style scoped>\n",
       "    .dataframe tbody tr th:only-of-type {\n",
       "        vertical-align: middle;\n",
       "    }\n",
       "\n",
       "    .dataframe tbody tr th {\n",
       "        vertical-align: top;\n",
       "    }\n",
       "\n",
       "    .dataframe thead th {\n",
       "        text-align: right;\n",
       "    }\n",
       "</style>\n",
       "<table border=\"1\" class=\"dataframe\">\n",
       "  <thead>\n",
       "    <tr style=\"text-align: right;\">\n",
       "      <th></th>\n",
       "      <th>Name</th>\n",
       "      <th>Location</th>\n",
       "      <th>Rating</th>\n",
       "      <th>Price</th>\n",
       "    </tr>\n",
       "  </thead>\n",
       "  <tbody>\n",
       "    <tr>\n",
       "      <th>0</th>\n",
       "      <td>Hometown Bar-B-Que</td>\n",
       "      <td>[1200 NW 22nd St, Ste 100, Miami, FL 33142]</td>\n",
       "      <td>4.5</td>\n",
       "      <td>$$</td>\n",
       "    </tr>\n",
       "    <tr>\n",
       "      <th>1</th>\n",
       "      <td>KYU</td>\n",
       "      <td>[251 NW 25th St, Miami, FL 33127]</td>\n",
       "      <td>4.5</td>\n",
       "      <td>$$$</td>\n",
       "    </tr>\n",
       "    <tr>\n",
       "      <th>2</th>\n",
       "      <td>Sins Gastrobar</td>\n",
       "      <td>[9835 NE 2nd Ave, Miami Shores, FL 33138]</td>\n",
       "      <td>4</td>\n",
       "      <td>$$</td>\n",
       "    </tr>\n",
       "    <tr>\n",
       "      <th>3</th>\n",
       "      <td>Old's Havana Cuban Bar &amp; Cocina</td>\n",
       "      <td>[1442 SW 8th St, Miami, FL 33135]</td>\n",
       "      <td>4.5</td>\n",
       "      <td>$$</td>\n",
       "    </tr>\n",
       "    <tr>\n",
       "      <th>4</th>\n",
       "      <td>Old's Havana Cuban Bar &amp; Cocina</td>\n",
       "      <td>[1442 SW 8th St, Miami, FL 33135]</td>\n",
       "      <td>4.5</td>\n",
       "      <td>$$</td>\n",
       "    </tr>\n",
       "  </tbody>\n",
       "</table>\n",
       "</div>"
      ],
      "text/plain": [
       "                              Name  \\\n",
       "0               Hometown Bar-B-Que   \n",
       "1                              KYU   \n",
       "2                   Sins Gastrobar   \n",
       "3  Old's Havana Cuban Bar & Cocina   \n",
       "4  Old's Havana Cuban Bar & Cocina   \n",
       "\n",
       "                                      Location Rating Price  \n",
       "0  [1200 NW 22nd St, Ste 100, Miami, FL 33142]    4.5    $$  \n",
       "1            [251 NW 25th St, Miami, FL 33127]    4.5   $$$  \n",
       "2    [9835 NE 2nd Ave, Miami Shores, FL 33138]      4    $$  \n",
       "3            [1442 SW 8th St, Miami, FL 33135]    4.5    $$  \n",
       "4            [1442 SW 8th St, Miami, FL 33135]    4.5    $$  "
      ]
     },
     "execution_count": 10,
     "metadata": {},
     "output_type": "execute_result"
    }
   ],
   "source": [
    "# Add columns for lat, lng, airport name, airport address, airport rating\n",
    "restaurants_df = pd.DataFrame({\"Name\": names,\"Location\": addresses,\n",
    "                               \"Rating\": ratings,\"Price\": price})\n",
    "restaurants_df =restaurants_df.dropna(how='any')\n",
    "print(f\"The data frame contains {len(restaurants_df['Name'])} unique restaurants.\")\n",
    "\n",
    "      \n",
    "restaurants_df.head()"
   ]
  },
  {
   "cell_type": "code",
   "execution_count": null,
   "metadata": {
    "scrolled": false
   },
   "outputs": [],
   "source": [
    "# Save Data to csv\n",
    "#cities_pd.to_csv(\"Airport_Output.csv\")\n",
    "\n",
    "# Visualize to confirm airport data appears\n",
    "#cities_pd.head(10)"
   ]
  },
  {
   "cell_type": "code",
   "execution_count": null,
   "metadata": {},
   "outputs": [],
   "source": []
  }
 ],
 "metadata": {
  "anaconda-cloud": {},
  "kernelspec": {
   "display_name": "Python 3",
   "language": "python",
   "name": "python3"
  },
  "language_info": {
   "codemirror_mode": {
    "name": "ipython",
    "version": 3
   },
   "file_extension": ".py",
   "mimetype": "text/x-python",
   "name": "python",
   "nbconvert_exporter": "python",
   "pygments_lexer": "ipython3",
   "version": "3.7.3"
  }
 },
 "nbformat": 4,
 "nbformat_minor": 1
}
