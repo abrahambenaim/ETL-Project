{
 "cells": [
  {
   "cell_type": "code",
   "execution_count": 45,
   "metadata": {},
   "outputs": [],
   "source": [
    "# Dependencies\n",
    "import pandas as pd\n",
    "import numpy as np\n",
    "import requests\n",
    "import json\n",
    "\n",
    "# Yelp API Key\n",
    "gkey = 'fxuoEjmZHd5kA1x20u4z2waSsXfTm49pWr2F6ac-htERJ0haCqXH949tlmDYt9lhy4MC6nBJjt2llMwhQJfxbwX69QlFkI221WkMDZTn7NMQBaXRrWGBFzCrg4-9XXYx'\n"
   ]
  },
  {
   "cell_type": "code",
   "execution_count": 46,
   "metadata": {},
   "outputs": [],
   "source": [
    "from etl_clean_ip import zip_list"
   ]
  },
  {
   "cell_type": "code",
   "execution_count": 47,
   "metadata": {},
   "outputs": [],
   "source": [
    "#set up base url\n",
    "# base url\n",
    "base_url = \"https://api.yelp.com/v3/businesses/search\"\n",
    "\n",
    "# set up api_key dictionary\n",
    "headers = {\n",
    "        'Authorization': 'Bearer %s' % gkey,\n",
    "    }\n",
    "\n",
    "# set up a parameters dictionary\n",
    "def s_params(target_loc,target_key,target_type):\n",
    "    params = {\n",
    "    \"location\": target_loc,\n",
    "    \"term\": target_key,\n",
    "    \"categories\": target_type,\n",
    "}\n",
    "    return params\n",
    "\n",
    "# run a request using our params dictionary\n",
    "def s_query(base_url,headers,params):\n",
    "    response = requests.request('GET', base_url, headers=headers, params=params).json()\n",
    "    return response"
   ]
  },
  {
   "cell_type": "code",
   "execution_count": 48,
   "metadata": {},
   "outputs": [
    {
     "data": {
      "text/plain": [
       "[33142,\n",
       " 33127,\n",
       " 33147,\n",
       " 33125,\n",
       " 33136,\n",
       " 33012,\n",
       " 33167,\n",
       " 33126,\n",
       " 33150,\n",
       " 33032,\n",
       " 33130,\n",
       " 33162,\n",
       " 33034,\n",
       " 33055,\n",
       " 33056,\n",
       " 33174,\n",
       " 33172,\n",
       " 33033,\n",
       " 33168,\n",
       " 33190,\n",
       " 33169,\n",
       " 33181,\n",
       " 33030,\n",
       " 33014,\n",
       " 33193,\n",
       " 33016,\n",
       " 33161,\n",
       " 33184,\n",
       " 33194,\n",
       " 33035]"
      ]
     },
     "execution_count": 48,
     "metadata": {},
     "output_type": "execute_result"
    }
   ],
   "source": [
    "# Import zip list\n",
    "zip_list \n",
    "\n",
    "#cities_pd.shape[0] #use .shape[0] to count the number of rows"
   ]
  },
  {
   "cell_type": "code",
   "execution_count": 49,
   "metadata": {},
   "outputs": [],
   "source": [
    "# yelp function\n",
    "def get_restaurants(zips):\n",
    "    \n",
    "    #these are the additional params\n",
    "    add_params = { \"limit\" : 5, \"radius\" : 4000}\n",
    "\n",
    "    #these are the original params\n",
    "    loc = zips\n",
    "    params = s_params(loc,\"restaurants\",\"restaurants, All\")\n",
    "\n",
    "    #add additional params to our params from before\n",
    "    s1_params = {**params,**add_params}\n",
    "\n",
    "    s1_results = s_query(base_url,headers,s1_params)\n",
    "    \n",
    "    if (s1_results[\"businesses\"][0][\"name\"]):\n",
    "        name = s1_results[\"businesses\"][0][\"name\"]\n",
    "        address = s1_results[\"businesses\"][0][\"location\"][\"display_address\"]\n",
    "        lat = s1_results[\"businesses\"][0][\"coordinates\"][\"latitude\"]\n",
    "        lon = s1_results[\"businesses\"][0][\"coordinates\"][\"longitude\"]\n",
    "        rating = s1_results[\"businesses\"][0][\"rating\"]\n",
    "        output = [name,address,lat,lon,rating] \n",
    "    else:\n",
    "        output = [\"NaN\",\"NaN\",\"NaN\",\"NaN\",\"NaN\"]\n",
    "    \n",
    "    \n",
    "    return output"
   ]
  },
  {
   "cell_type": "code",
   "execution_count": 50,
   "metadata": {},
   "outputs": [
    {
     "name": "stdout",
     "output_type": "stream",
     "text": [
      "wait...\n",
      "['Hometown Bar-B-Que', ['1200 NW 22nd St', 'Ste 100', 'Miami, FL 33142'], 25.797445333, -80.215986833, 4.5]\n",
      "['KYU', ['251 NW 25th St', 'Miami, FL 33127'], 25.80089, -80.20017, 4.5]\n",
      "['House of Food Porn', ['197 NW 62nd St', 'Miami, FL 33150'], 25.8326319884545, -80.200107379434, 5.0]\n",
      "[\"Old's Havana Cuban Bar & Cocina\", ['1442 SW 8th St', 'Miami, FL 33135'], 25.7655942148975, -80.2192383373502, 4.5]\n",
      "[\"Old's Havana Cuban Bar & Cocina\", ['1442 SW 8th St', 'Miami, FL 33135'], 25.7655942148975, -80.2192383373502, 4.5]\n",
      "['Pan.com Sandwicheria', ['1255 W 46th St', 'Unit 18', 'Hialeah, FL 33012'], 25.86424, -80.30763, 4.5]\n",
      "['El Conuquito Restaurant', ['1099 NW 119th St', 'Miami, FL 33168'], 25.8838214874268, -80.2164688110352, 4.5]\n",
      "['First Watch', ['5799 NW 7th St', 'Miami, FL 33125'], 25.7783052848884, -80.2905444951525, 4.0]\n",
      "['Sins Gastrobar', ['9835 NE 2nd Ave', 'Miami Shores, FL 33138'], 25.86562, -80.19331, 4.0]\n",
      "['Figat Chefs Kitchen', ['22400 Old Dixie Hwy', 'Miami, FL 33170'], 25.558655, -80.39044, 5.0]\n",
      "[\"Old's Havana Cuban Bar & Cocina\", ['1442 SW 8th St', 'Miami, FL 33135'], 25.7655942148975, -80.2192383373502, 4.5]\n",
      "['Korean Kitchen', ['1661 NE 163rd St', 'Ste A', 'North Miami Beach, FL 33162'], 25.92621, -80.16672, 4.5]\n"
     ]
    },
    {
     "ename": "IndexError",
     "evalue": "list index out of range",
     "output_type": "error",
     "traceback": [
      "\u001b[0;31m---------------------------------------------------------------------------\u001b[0m",
      "\u001b[0;31mIndexError\u001b[0m                                Traceback (most recent call last)",
      "\u001b[0;32m<ipython-input-50-d67e9e3bbe16>\u001b[0m in \u001b[0;36m<module>\u001b[0;34m\u001b[0m\n\u001b[1;32m     13\u001b[0m \u001b[0;34m\u001b[0m\u001b[0m\n\u001b[1;32m     14\u001b[0m \u001b[0;34m\u001b[0m\u001b[0m\n\u001b[0;32m---> 15\u001b[0;31m     \u001b[0moutput\u001b[0m \u001b[0;34m=\u001b[0m \u001b[0mget_restaurants\u001b[0m\u001b[0;34m(\u001b[0m\u001b[0mzips\u001b[0m\u001b[0;34m)\u001b[0m\u001b[0;34m\u001b[0m\u001b[0;34m\u001b[0m\u001b[0m\n\u001b[0m\u001b[1;32m     16\u001b[0m     \u001b[0mprint\u001b[0m\u001b[0;34m(\u001b[0m\u001b[0moutput\u001b[0m\u001b[0;34m)\u001b[0m\u001b[0;34m\u001b[0m\u001b[0;34m\u001b[0m\u001b[0m\n\u001b[1;32m     17\u001b[0m     \u001b[0mnames\u001b[0m\u001b[0;34m.\u001b[0m\u001b[0mappend\u001b[0m\u001b[0;34m(\u001b[0m\u001b[0moutput\u001b[0m\u001b[0;34m[\u001b[0m\u001b[0;36m0\u001b[0m\u001b[0;34m]\u001b[0m\u001b[0;34m)\u001b[0m\u001b[0;34m\u001b[0m\u001b[0;34m\u001b[0m\u001b[0m\n",
      "\u001b[0;32m<ipython-input-49-32b3f98950f7>\u001b[0m in \u001b[0;36mget_restaurants\u001b[0;34m(zips)\u001b[0m\n\u001b[1;32m     14\u001b[0m     \u001b[0ms1_results\u001b[0m \u001b[0;34m=\u001b[0m \u001b[0ms_query\u001b[0m\u001b[0;34m(\u001b[0m\u001b[0mbase_url\u001b[0m\u001b[0;34m,\u001b[0m\u001b[0mheaders\u001b[0m\u001b[0;34m,\u001b[0m\u001b[0ms1_params\u001b[0m\u001b[0;34m)\u001b[0m\u001b[0;34m\u001b[0m\u001b[0;34m\u001b[0m\u001b[0m\n\u001b[1;32m     15\u001b[0m \u001b[0;34m\u001b[0m\u001b[0m\n\u001b[0;32m---> 16\u001b[0;31m     \u001b[0;32mif\u001b[0m \u001b[0;34m(\u001b[0m\u001b[0ms1_results\u001b[0m\u001b[0;34m[\u001b[0m\u001b[0;34m\"businesses\"\u001b[0m\u001b[0;34m]\u001b[0m\u001b[0;34m[\u001b[0m\u001b[0;36m0\u001b[0m\u001b[0;34m]\u001b[0m\u001b[0;34m[\u001b[0m\u001b[0;34m\"name\"\u001b[0m\u001b[0;34m]\u001b[0m\u001b[0;34m)\u001b[0m\u001b[0;34m:\u001b[0m\u001b[0;34m\u001b[0m\u001b[0;34m\u001b[0m\u001b[0m\n\u001b[0m\u001b[1;32m     17\u001b[0m         \u001b[0mname\u001b[0m \u001b[0;34m=\u001b[0m \u001b[0ms1_results\u001b[0m\u001b[0;34m[\u001b[0m\u001b[0;34m\"businesses\"\u001b[0m\u001b[0;34m]\u001b[0m\u001b[0;34m[\u001b[0m\u001b[0;36m0\u001b[0m\u001b[0;34m]\u001b[0m\u001b[0;34m[\u001b[0m\u001b[0;34m\"name\"\u001b[0m\u001b[0;34m]\u001b[0m\u001b[0;34m\u001b[0m\u001b[0;34m\u001b[0m\u001b[0m\n\u001b[1;32m     18\u001b[0m         \u001b[0maddress\u001b[0m \u001b[0;34m=\u001b[0m \u001b[0ms1_results\u001b[0m\u001b[0;34m[\u001b[0m\u001b[0;34m\"businesses\"\u001b[0m\u001b[0;34m]\u001b[0m\u001b[0;34m[\u001b[0m\u001b[0;36m0\u001b[0m\u001b[0;34m]\u001b[0m\u001b[0;34m[\u001b[0m\u001b[0;34m\"location\"\u001b[0m\u001b[0;34m]\u001b[0m\u001b[0;34m[\u001b[0m\u001b[0;34m\"display_address\"\u001b[0m\u001b[0;34m]\u001b[0m\u001b[0;34m\u001b[0m\u001b[0;34m\u001b[0m\u001b[0m\n",
      "\u001b[0;31mIndexError\u001b[0m: list index out of range"
     ]
    }
   ],
   "source": [
    "# Loop through the zips list and run a search for each zip\n",
    "names = []\n",
    "addresses = []\n",
    "lats = []\n",
    "lons = []\n",
    "ratings = []\n",
    "\n",
    "\n",
    "print(\"wait...\")\n",
    "\n",
    "\n",
    "for zips in zip_list:\n",
    "\n",
    "\n",
    "    output = get_restaurants(zips)\n",
    "    print(output)\n",
    "    names.append(output[0])\n",
    "    addresses.append(output[1])\n",
    "    lats.append(output[2])\n",
    "    lons.append(output[3])\n",
    "    ratings.append(output[4])\n",
    "    \n",
    "    \n",
    "print(\"done!\")"
   ]
  },
  {
   "cell_type": "code",
   "execution_count": null,
   "metadata": {},
   "outputs": [],
   "source": [
    "# Add columns for lat, lng, airport name, airport address, airport rating\n",
    "cities_pd[\"Lat\"] = lats\n",
    "cities_pd[\"Lng\"] = lons\n",
    "cities_pd[\"Airport Name\"] = names\n",
    "cities_pd[\"Airport Address\"] = addresses\n",
    "cities_pd[\"Airport Rating\"] = ratings\n",
    "cities_pd.head()"
   ]
  },
  {
   "cell_type": "code",
   "execution_count": null,
   "metadata": {
    "scrolled": false
   },
   "outputs": [],
   "source": [
    "# Save Data to csv\n",
    "cities_pd.to_csv(\"Airport_Output.csv\")\n",
    "\n",
    "# Visualize to confirm airport data appears\n",
    "cities_pd.head(10)"
   ]
  },
  {
   "cell_type": "code",
   "execution_count": null,
   "metadata": {},
   "outputs": [],
   "source": []
  }
 ],
 "metadata": {
  "anaconda-cloud": {},
  "kernelspec": {
   "display_name": "Python 3",
   "language": "python",
   "name": "python3"
  },
  "language_info": {
   "codemirror_mode": {
    "name": "ipython",
    "version": 3
   },
   "file_extension": ".py",
   "mimetype": "text/x-python",
   "name": "python",
   "nbconvert_exporter": "python",
   "pygments_lexer": "ipython3",
   "version": "3.7.4"
  }
 },
 "nbformat": 4,
 "nbformat_minor": 1
}
