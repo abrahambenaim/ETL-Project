{
 "cells": [
  {
   "cell_type": "code",
   "execution_count": 20,
   "metadata": {},
   "outputs": [],
   "source": [
    "# Dependencies\n",
    "import pandas as pd\n",
    "import numpy as np\n",
    "import requests\n",
    "import json\n",
    "\n",
    "# Yelp API Key\n",
    "gkey = 'fxuoEjmZHd5kA1x20u4z2waSsXfTm49pWr2F6ac-htERJ0haCqXH949tlmDYt9lhy4MC6nBJjt2llMwhQJfxbwX69QlFkI221WkMDZTn7NMQBaXRrWGBFzCrg4-9XXYx'\n"
   ]
  },
  {
   "cell_type": "code",
   "execution_count": 21,
   "metadata": {},
   "outputs": [],
   "source": [
    "from etl_clean_ip import zip_list"
   ]
  },
  {
   "cell_type": "code",
   "execution_count": 22,
   "metadata": {},
   "outputs": [],
   "source": [
    "#set up base url\n",
    "# base url\n",
    "base_url = \"https://api.yelp.com/v3/businesses/search\"\n",
    "\n",
    "# set up api_key dictionary\n",
    "headers = {\n",
    "        'Authorization': 'Bearer %s' % gkey,\n",
    "    }\n",
    "\n",
    "# set up a parameters dictionary\n",
    "def s_params(target_loc,target_key,target_type):\n",
    "    params = {\n",
    "    \"location\": target_loc,\n",
    "    \"term\": target_key,\n",
    "    \"categories\": target_type,\n",
    "}\n",
    "    return params\n",
    "\n",
    "# run a request using our params dictionary\n",
    "def s_query(base_url,headers,params):\n",
    "    response = requests.request('GET', base_url, headers=headers, params=params).json()\n",
    "    return response"
   ]
  },
  {
   "cell_type": "code",
   "execution_count": 23,
   "metadata": {},
   "outputs": [
    {
     "data": {
      "text/plain": [
       "[33142,\n",
       " 33127,\n",
       " 33147,\n",
       " 33125,\n",
       " 33136,\n",
       " 33012,\n",
       " 33167,\n",
       " 33126,\n",
       " 33150,\n",
       " 33032,\n",
       " 33130,\n",
       " 33162,\n",
       " 33034,\n",
       " 33055,\n",
       " 33056,\n",
       " 33174,\n",
       " 33172,\n",
       " 33033,\n",
       " 33168,\n",
       " 33190,\n",
       " 33169,\n",
       " 33181,\n",
       " 33030,\n",
       " 33014,\n",
       " 33193,\n",
       " 33016,\n",
       " 33161,\n",
       " 33184,\n",
       " 33194,\n",
       " 33035]"
      ]
     },
     "execution_count": 23,
     "metadata": {},
     "output_type": "execute_result"
    }
   ],
   "source": [
    "# Import zip list\n",
    "zip_list \n",
    "\n",
    "#cities_pd.shape[0] #use .shape[0] to count the number of rows"
   ]
  },
  {
   "cell_type": "code",
   "execution_count": 27,
   "metadata": {},
   "outputs": [],
   "source": [
    "# yelp function\n",
    "def get_restaurants(zips):\n",
    "    \n",
    "    #these are the additional params\n",
    "    add_params = {\"sort_by\" : \"best_match\", \"limit\" : 1, \"radius\" : 40000}\n",
    "\n",
    "    #these are the original params\n",
    "    loc = zips\n",
    "    params = s_params(loc,\"restaurants\",\"restaurants, All\")\n",
    "\n",
    "    #add additional params to our params from before\n",
    "    s1_params = {**params,**add_params}\n",
    "\n",
    "    s1_results = s_query(base_url,headers,s1_params)\n",
    "    \n",
    "    if (s1_results[\"businesses\"][0][\"name\"]):\n",
    "        name = s1_results[\"businesses\"][0][\"name\"]\n",
    "        address = s1_results[\"businesses\"][0][\"location\"][\"display_address\"]\n",
    "        lat = s1_results[\"businesses\"][0][\"coordinates\"][\"latitude\"]\n",
    "        lon = s1_results[\"businesses\"][0][\"coordinates\"][\"longitude\"]\n",
    "        rating = s1_results[\"businesses\"][0][\"rating\"]\n",
    "        output = [name,address,lat,lon,rating] \n",
    "    else:\n",
    "        output = [\"NaN\",\"NaN\",\"NaN\",\"NaN\",\"NaN\"]\n",
    "    \n",
    "    \n",
    "    return output"
   ]
  },
  {
   "cell_type": "code",
   "execution_count": 29,
   "metadata": {},
   "outputs": [
    {
     "name": "stdout",
     "output_type": "stream",
     "text": [
      "wait...\n",
      "['Hometown Bar-B-Que', ['1200 NW 22nd St', 'Ste 100', 'Miami, FL 33142'], 25.797445333, -80.215986833, 4.5]\n",
      "['KYU', ['251 NW 25th St', 'Miami, FL 33127'], 25.80089, -80.20017, 4.5]\n",
      "['House of Food Porn', ['197 NW 62nd St', 'Miami, FL 33150'], 25.8326319884545, -80.200107379434, 5.0]\n",
      "[\"Old's Havana Cuban Bar & Cocina\", ['1442 SW 8th St', 'Miami, FL 33135'], 25.7655942148975, -80.2192383373502, 4.5]\n",
      "[\"Old's Havana Cuban Bar & Cocina\", ['1442 SW 8th St', 'Miami, FL 33135'], 25.7655942148975, -80.2192383373502, 4.5]\n",
      "['I Heart Fries', ['1675 W 49th St', 'Unit 1380', 'Hialeah, FL 33012'], 25.8677682593646, -80.3171861362284, 4.5]\n",
      "['Sins Gastrobar', ['9835 NE 2nd Ave', 'Miami Shores, FL 33138'], 25.86562, -80.19331, 4.0]\n",
      "['First Watch', ['5799 NW 7th St', 'Miami, FL 33125'], 25.7783052848884, -80.2905444951525, 4.0]\n",
      "['Sins Gastrobar', ['9835 NE 2nd Ave', 'Miami Shores, FL 33138'], 25.86562, -80.19331, 4.0]\n",
      "[\"Shiver's Bar-B-Q\", ['28001 S Dixie Hwy', 'Homestead, FL 33033'], 25.506086, -80.439191, 4.5]\n",
      "[\"Old's Havana Cuban Bar & Cocina\", ['1442 SW 8th St', 'Miami, FL 33135'], 25.7655942148975, -80.2192383373502, 4.5]\n",
      "['Korean Kitchen', ['1661 NE 163rd St', 'Ste A', 'North Miami Beach, FL 33162'], 25.92621, -80.16672, 4.5]\n",
      "['Yardie Spice', ['225 S Krome Ave', 'Homestead, FL 33030'], 25.468072, -80.477266, 5.0]\n",
      "['World Famous', ['19401 NW 27th Ave', 'Miami Gardens, FL 33056'], 25.95109, -80.2450747042894, 4.0]\n",
      "['World Famous', ['19401 NW 27th Ave', 'Miami Gardens, FL 33056'], 25.95109, -80.2450747042894, 4.0]\n",
      "['KOW Restaurant', ['14429 SW 42nd St', 'Miami, FL 33175'], 25.729489, -80.428437, 4.5]\n",
      "['Bocas House- Doral', ['10200 NW 25th St', 'Ste 101', 'Doral, FL 33172'], 25.7963099, -80.3619, 4.0]\n",
      "['Yardie Spice', ['225 S Krome Ave', 'Homestead, FL 33030'], 25.468072, -80.477266, 5.0]\n",
      "['World Famous House of Mac', ['13521 Biscayne Blvd', 'North Miami Beach, FL 33181'], 25.90059, -80.15972, 4.5]\n",
      "['Black Point Ocean Grill', ['24775 SW 87th Ave', 'Cutler Bay, FL 33032'], 25.540609, -80.328529, 4.0]\n",
      "['World Famous', ['19401 NW 27th Ave', 'Miami Gardens, FL 33056'], 25.95109, -80.2450747042894, 4.0]\n",
      "['World Famous House of Mac', ['13521 Biscayne Blvd', 'North Miami Beach, FL 33181'], 25.90059, -80.15972, 4.5]\n",
      "['Yardie Spice', ['225 S Krome Ave', 'Homestead, FL 33030'], 25.468072, -80.477266, 5.0]\n",
      "['107 Taste - Miami Lakes', ['6705 Main St', 'Miami Lakes, FL 33014'], 25.9133462, -80.3097048, 4.5]\n",
      "['KOW Restaurant', ['14429 SW 42nd St', 'Miami, FL 33175'], 25.729489, -80.428437, 4.5]\n",
      "[\"Franky's Deli Warehouse\", ['2596 W 84th St', 'Hialeah, FL 33016'], 25.89739, -80.3362, 5.0]\n",
      "['World Famous House of Mac', ['13521 Biscayne Blvd', 'North Miami Beach, FL 33181'], 25.90059, -80.15972, 4.5]\n",
      "['KOW Restaurant', ['14429 SW 42nd St', 'Miami, FL 33175'], 25.729489, -80.428437, 4.5]\n",
      "['Coopertown Restaurant', ['22700 SW 8th St', 'Miami, FL 33194'], 25.76074, -80.5612597, 4.0]\n",
      "['Yardie Spice', ['225 S Krome Ave', 'Homestead, FL 33030'], 25.468072, -80.477266, 5.0]\n",
      "done!\n"
     ]
    }
   ],
   "source": [
    "# Loop through the cities_pd and run a lat/long search for each city\n",
    "names = []\n",
    "addresses = []\n",
    "lats = []\n",
    "lons = []\n",
    "ratings = []\n",
    "\n",
    "print(\"wait...\")\n",
    "\n",
    "\n",
    "for zips in zip_list:\n",
    "\n",
    "    \n",
    "    \n",
    "    output = get_restaurants(zips)\n",
    "    print(output)\n",
    "    names.append(output[0])\n",
    "    addresses.append(output[1])\n",
    "    lats.append(output[2])\n",
    "    lons.append(output[3])\n",
    "    ratings.append(output[4])\n",
    "    \n",
    "print(\"done!\")"
   ]
  },
  {
   "cell_type": "code",
   "execution_count": null,
   "metadata": {},
   "outputs": [],
   "source": [
    "# Add columns for lat, lng, airport name, airport address, airport rating\n",
    "cities_pd[\"Lat\"] = lats\n",
    "cities_pd[\"Lng\"] = lons\n",
    "cities_pd[\"Airport Name\"] = names\n",
    "cities_pd[\"Airport Address\"] = addresses\n",
    "cities_pd[\"Airport Rating\"] = ratings\n",
    "cities_pd.head()"
   ]
  },
  {
   "cell_type": "code",
   "execution_count": null,
   "metadata": {
    "scrolled": false
   },
   "outputs": [],
   "source": [
    "# Save Data to csv\n",
    "cities_pd.to_csv(\"Airport_Output.csv\")\n",
    "\n",
    "# Visualize to confirm airport data appears\n",
    "cities_pd.head(10)"
   ]
  },
  {
   "cell_type": "code",
   "execution_count": null,
   "metadata": {},
   "outputs": [],
   "source": []
  }
 ],
 "metadata": {
  "anaconda-cloud": {},
  "kernelspec": {
   "display_name": "Python 3",
   "language": "python",
   "name": "python3"
  },
  "language_info": {
   "codemirror_mode": {
    "name": "ipython",
    "version": 3
   },
   "file_extension": ".py",
   "mimetype": "text/x-python",
   "name": "python",
   "nbconvert_exporter": "python",
   "pygments_lexer": "ipython3",
   "version": "3.7.4"
  }
 },
 "nbformat": 4,
 "nbformat_minor": 1
}
